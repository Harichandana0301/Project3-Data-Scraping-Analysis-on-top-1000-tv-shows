{
 "cells": [
  {
   "cell_type": "code",
   "execution_count": null,
   "id": "faa32e64",
   "metadata": {},
   "outputs": [],
   "source": [
    "import requests\n",
    "import re\n",
    "from bs4 import BeautifulSoup\n",
    "import pandas as pd\n",
    "import seaborn as sns\n",
    "from scipy import stats\n",
    "import numpy as np\n",
    "import matplotlib.pyplot as plt\n",
    "base_url = \"https://www.imdb.com/search/title/?title_type=tv_series&num_votes=1000,&languages=en&sort=user_rating,desc&start=0\"\n"
   ]
  },
  {
   "cell_type": "code",
   "execution_count": null,
   "id": "7b195882",
   "metadata": {},
   "outputs": [],
   "source": [
    "shows = []\n",
    "shows_per_page = 50\n",
    "for page_number in range(0, 1000, shows_per_page):\n",
    "    url = base_url + str(page_number) \n",
    "    response = requests.get(url)\n",
    "    soup = BeautifulSoup(response.text, \"html.parser\")\n",
    "    for show_div in soup.find_all(\"div\", class_=\"lister-item-content\"):\n",
    "        show = {}\n",
    "        rank = show_div.find(\"span\", class_=\"lister-item-index unbold text-primary\").text.strip().replace('.','')\n",
    "        show[\"Rank\"] = int(rank)\n",
    "        show[\"Title\"] = show_div.find(\"h3\").a.text.strip()\n",
    "        show[\"Year\"] = show_div.find(\"span\", class_=\"lister-item-year\").text.strip().replace('(','').replace(')','').replace('II','').replace('I','')\n",
    "        year = show[\"Year\"].strip()\n",
    "        if \"–\" in year:\n",
    "            start_year, end_year = year.split(\"–\")\n",
    "            show[\"Start Year\"] = start_year\n",
    "            show[\"End Year\"] = end_year\n",
    "        else:\n",
    "            show[\"Start Year\"] = year\n",
    "            show[\"End Year\"] = year\n",
    "        show[\"Rating\"] = show_div.find(\"strong\").text.strip()\n",
    "        # show[\"Duration\"] = show_div.find(\"span\", class_=\"runtime\").text.strip().replace('min','') if show_div.find(\"span\", class_=\"runtime\") else None\n",
    "        value = show_div.find_all(\"span\", attrs={\"name\": \"nv\"})\n",
    "        show[\"Votes\"] = value[0].text.replace(',','') \n",
    "        genre = show_div.find(\"span\", class_=\"genre\").text.strip()\n",
    "        genres = [g.strip() for g in genre.split(\",\")]\n",
    "        show[\"Genre\"] = \", \".join(genres)\n",
    "        show[\"Genre\"] = show[\"Genre\"].strip('\"')\n",
    "#         show[\"Certificate\"] = show_div.find(\"span\", class_=\"certificate\")\n",
    "#         show[\"Certificate\"] = show[\"Certificate\"].replace('[', '').replace(']', '')\n",
    "        certificate_elem = show_div.find(\"span\", class_=\"certificate\")\n",
    "        if certificate_elem is not None:\n",
    "            certificate = certificate_elem.text.strip().replace('[', '').replace(']', '')\n",
    "        else:\n",
    "            certificate = \"Not Found\"\n",
    "        show[\"Certificate\"] = certificate \n",
    "         # Extract the primary genre from the \"genre\" field\n",
    "        genre = show_div.find(\"span\", class_=\"genre\").text.strip()\n",
    "        genres = [g.strip() for g in genre.split(\",\")]\n",
    "        show[\"Primary Genre\"] = genres[0]\n",
    "        shows.append(show)"
   ]
  },
  {
   "cell_type": "code",
   "execution_count": null,
   "id": "7113bcc9",
   "metadata": {},
   "outputs": [],
   "source": [
    "df = pd.DataFrame(shows)\n",
    "df.drop(\"Year\", axis=1, inplace=True)\n",
    "df.to_csv('TVSHOWS_1000.csv')"
   ]
  },
  {
   "cell_type": "code",
   "execution_count": null,
   "id": "93f80ca5",
   "metadata": {},
   "outputs": [],
   "source": [
    "df['Votes'] = df['Votes'].astype('int64')\n",
    "df['Start Year'] = df['Start Year'].astype('int64')\n",
    "df[\"End Year\"].replace('', 0, inplace=True)\n",
    "df[\"End Year\"] = df[\"End Year\"].astype(int)\n",
    "df['Rating'] = df['Rating'].astype(str).astype('float')\n",
    "df"
   ]
  },
  {
   "cell_type": "markdown",
   "id": "298e1646",
   "metadata": {
    "tags": []
   },
   "source": [
    "## 2019 vs 2020 TV creation"
   ]
  },
  {
   "cell_type": "code",
   "execution_count": null,
   "id": "86cc2be6",
   "metadata": {},
   "outputs": [],
   "source": [
    "tv_shows_2019 = df[df['Start Year'] == 2019]\n",
    "tv_shows_2020 = df[df['Start Year'] == 2020]\n",
    "\n",
    "# Combine the two DataFrames into one\n",
    "tv_shows_2019_2020 = pd.concat([tv_shows_2019, tv_shows_2020])\n",
    "\n",
    "# Conduct a t-test to determine if there is a statistically significant difference in mean ratings between the two groups\n",
    "t, p = stats.ttest_ind(tv_shows_2019['Rating'], tv_shows_2020['Rating'])\n",
    "\n",
    "# Print the t-statistic and p-value\n",
    "print(f\"t-statistic: {t}, p-value: {p}\")\n",
    "\n",
    "# Visualize the distribution of ratings for each group using a distplot from seaborn\n",
    "sns.displot(data=tv_shows_2019_2020, x='Rating', hue='Start Year', kind='kde', common_norm=False,palette=\"Set2\")\n",
    "plt.show()\n"
   ]
  },
  {
   "cell_type": "markdown",
   "id": "87d39846",
   "metadata": {
    "tags": []
   },
   "source": [
    "## Top 10 shows by number of votes vs ratings"
   ]
  },
  {
   "cell_type": "code",
   "execution_count": null,
   "id": "69469ea0",
   "metadata": {},
   "outputs": [],
   "source": [
    "import matplotlib.pyplot as plt\n",
    "import pandas as pd\n",
    "\n",
    "\n",
    "# Sort the dataframe by the number of votes in descending order\n",
    "byPopularity = df.sort_values(by='Votes', ascending=False)\n",
    "\n",
    "# Get the top 10 rows of the sorted dataframe\n",
    "byPopularity = byPopularity.head(10)\n",
    "\n",
    "# Plot the data as a bar chart\n",
    "plt.bar(byPopularity['Title'], byPopularity['Votes'])\n",
    "\n",
    "# Add labels to the x and y axis\n",
    "plt.xlabel('Title')\n",
    "plt.xticks(rotation=90)\n",
    "plt.ylabel('Votes (Millions)')\n",
    "\n",
    "# Show the plot\n",
    "plt.show()\n",
    "\n",
    "\n",
    "byRating = df.head(10)\n",
    "\n",
    "# Get the top 10 rows of the sorted dataframe\n",
    "byRating = byRating.head(10)\n",
    "\n",
    "# Plot the data as a bar chart\n",
    "plt.bar(byRating['Title'], byRating['Votes'])\n",
    "\n",
    "\n",
    "# Add labels to the x and y axis\n",
    "plt.xlabel('Title')\n",
    "plt.xticks(rotation=90)\n",
    "plt.ylabel('Votes (Millions)')\n",
    "\n",
    "# Show the plot\n",
    "plt.show()\n",
    "\n"
   ]
  },
  {
   "cell_type": "markdown",
   "id": "28ed12c3",
   "metadata": {
    "tags": []
   },
   "source": [
    "## Number of high-rated TV shows throughout time\n"
   ]
  },
  {
   "cell_type": "code",
   "execution_count": null,
   "id": "2ca11688",
   "metadata": {},
   "outputs": [],
   "source": [
    "import pandas as pd\n",
    "import matplotlib.pyplot as plt\n",
    "\n",
    "fig, ax = plt.subplots(figsize=(25, 10))\n",
    "plt.xticks(rotation='vertical', fontsize=18)\n",
    "\n",
    "\n",
    "# Define a threshold for the rating of a show to be considered \"high-rated\"\n",
    "threshold = 8.0\n",
    "\n",
    "# Calculate the number of high-rated shows for each year\n",
    "high_rated_shows = []\n",
    "years = sorted(set(df[\"Start Year\"].tolist()))\n",
    "years.pop()\n",
    "for year in years:\n",
    "    high_rated_count = sum([1 for index, row in df.iterrows() if (row[\"Start Year\"] == year) & (row[\"Rating\"] >= threshold)]) \n",
    "    high_rated_shows.append(high_rated_count)\n",
    "\n",
    "# Plot the number of high-rated shows over time\n",
    "plt.plot(years, high_rated_shows)\n",
    "plt.xlabel(\"Start Year\")\n",
    "plt.ylabel(\"Number of High-Rated Shows\",fontsize=18)\n",
    "plt.title(\"Number of High-Rated Shows Over Time\",fontsize=18)\n",
    "plt.show()\n"
   ]
  },
  {
   "cell_type": "markdown",
   "id": "c87bfc65-f7c0-41be-bd0a-36e89a8e251c",
   "metadata": {
    "tags": []
   },
   "source": [
    "## Adult Rating grouping"
   ]
  },
  {
   "cell_type": "code",
   "execution_count": null,
   "id": "0d29a55a-cd29-4d2c-aff9-4741725cac8d",
   "metadata": {},
   "outputs": [],
   "source": [
    "rating = {'Not Found' : None, 'TV-MA' : \"Adult\", 'Approved' : \"Non-Adult\", 'TV-Y' : \"Non-Adult\", 'Not Rated' : \"Adult\", 'TV-14' : \"Non-Adult\",\n",
    "          'TV-PG' : \"Non-Adult\", 'TV-Y7-FV' : \"Non-Adult\", 'TV-G' : \"Non-Adult\", 'Unrated' : \"Adult\", 'TV-Y7' : \"Non-Adult\"}\n",
    "df['Maturity'] = df['Certificate'].map(rating)\n",
    "\n",
    "sns.boxplot(data = df, x = 'Rating', y = 'Votes', hue = 'Maturity', showfliers = False)\n",
    "display(df.groupby('Maturity').sum())\n",
    "plt.show()"
   ]
  }
 ],
 "metadata": {
  "kernelspec": {
   "display_name": "Python 3 (ipykernel)",
   "language": "python",
   "name": "python3"
  },
  "language_info": {
   "codemirror_mode": {
    "name": "ipython",
    "version": 3
   },
   "file_extension": ".py",
   "mimetype": "text/x-python",
   "name": "python",
   "nbconvert_exporter": "python",
   "pygments_lexer": "ipython3",
   "version": "3.9.13"
  }
 },
 "nbformat": 4,
 "nbformat_minor": 5
}
