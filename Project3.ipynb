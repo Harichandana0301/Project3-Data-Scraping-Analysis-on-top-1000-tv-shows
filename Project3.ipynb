{
 "cells": [
  {
   "cell_type": "code",
   "execution_count": null,
   "id": "faa32e64",
   "metadata": {},
   "outputs": [],
   "source": [
    "import requests\n",
    "import re\n",
    "from bs4 import BeautifulSoup\n",
    "import pandas as pd\n",
    "import seaborn as sns\n",
    "from scipy import stats\n",
    "import numpy as np\n",
    "import matplotlib.pyplot as plt\n",
    "base_url = \"https://www.imdb.com/search/title/?title_type=tv_series&num_votes=1000,&languages=en&sort=user_rating,desc&start=0\"\n"
   ]
  },
  {
   "cell_type": "code",
   "execution_count": null,
   "id": "7b195882",
   "metadata": {},
   "outputs": [],
   "source": [
    "shows = []\n",
    "shows_per_page = 50\n",
    "for page_number in range(0, 1000, shows_per_page):\n",
    "    url = base_url + str(page_number) \n",
    "    response = requests.get(url)\n",
    "    soup = BeautifulSoup(response.text, \"html.parser\")\n",
    "    for show_div in soup.find_all(\"div\", class_=\"lister-item-content\"):\n",
    "        show = {}\n",
    "        rank = show_div.find(\"span\", class_=\"lister-item-index unbold text-primary\").text.strip().replace('.','')\n",
    "        show[\"Rank\"] = int(rank)\n",
    "        show[\"Title\"] = show_div.find(\"h3\").a.text.strip()\n",
    "        show[\"Year\"] = show_div.find(\"span\", class_=\"lister-item-year\").text.strip().replace('(','').replace(')','').replace('II','').replace('I','')\n",
    "        year = show[\"Year\"].strip()\n",
    "        if \"–\" in year:\n",
    "            start_year, end_year = year.split(\"–\")\n",
    "            show[\"Start Year\"] = start_year\n",
    "            show[\"End Year\"] = end_year\n",
    "        else:\n",
    "            show[\"Start Year\"] = year\n",
    "            show[\"End Year\"] = None\n",
    "        show[\"Rating\"] = show_div.find(\"strong\").text.strip()\n",
    "        show[\"Duration\"] = show_div.find(\"span\", class_=\"runtime\").text.strip().replace('min','') if show_div.find(\"span\", class_=\"runtime\") else None\n",
    "        value = show_div.find_all(\"span\", attrs={\"name\": \"nv\"})\n",
    "        show[\"Votes\"] = value[0].text.replace(',','') \n",
    "        genre = show_div.find(\"span\", class_=\"genre\").text.strip()\n",
    "        genres = [g.strip() for g in genre.split(\",\")]\n",
    "        show[\"Genre\"] = \", \".join(genres)\n",
    "        show[\"Genre\"] = show[\"Genre\"].strip('\"')\n",
    "#         show[\"Certificate\"] = show_div.find(\"span\", class_=\"certificate\")\n",
    "#         show[\"Certificate\"] = show[\"Certificate\"].replace('[', '').replace(']', '')\n",
    "        certificate_elem = show_div.find(\"span\", class_=\"certificate\")\n",
    "        if certificate_elem is not None:\n",
    "            certificate = certificate_elem.text.strip().replace('[', '').replace(']', '')\n",
    "        else:\n",
    "            certificate = None\n",
    "        show[\"Certificate\"] = certificate \n",
    "         # Extract the primary genre from the \"genre\" field\n",
    "        genre = show_div.find(\"span\", class_=\"genre\").text.strip()\n",
    "        genres = [g.strip() for g in genre.split(\",\")]\n",
    "        show[\"Primary Genre\"] = genres[0]\n",
    "        shows.append(show)"
   ]
  },
  {
   "cell_type": "code",
   "execution_count": null,
   "id": "7113bcc9",
   "metadata": {},
   "outputs": [],
   "source": [
    "df = pd.DataFrame(shows)\n",
    "df.drop(\"Year\", axis=1, inplace=True)\n",
    "df.to_csv('TVSHOWS_1000.csv')\n",
    "df[df.isna().any(axis=1)]\n",
    "df = df.dropna()\n",
    "df"
   ]
  },
  {
   "cell_type": "code",
   "execution_count": null,
   "id": "93f80ca5",
   "metadata": {},
   "outputs": [],
   "source": [
    "df['Votes'] = df['Votes'].astype('int64')\n",
    "df['Start Year'] = df['Start Year'].astype('int64')\n",
    "df[\"End Year\"].replace('', 0, inplace=True)\n",
    "df[\"End Year\"] = df[\"End Year\"].astype(int)\n",
    "df['Duration'] = df['Duration'].astype(str).astype('int64')\n",
    "df['Rating'] = df['Rating'].astype(str).astype('float')"
   ]
  },
  {
   "cell_type": "code",
   "execution_count": null,
   "id": "b536e9fa",
   "metadata": {},
   "outputs": [],
   "source": [
    "df.head()"
   ]
  },
  {
   "cell_type": "markdown",
   "id": "298e1646",
   "metadata": {},
   "source": [
    "Compare the ratings of shows that started in 2019 and 2020. Use a t-test to determine if there is a statistically significant difference in the mean ratings of these two groups."
   ]
  },
  {
   "cell_type": "code",
   "execution_count": null,
   "id": "86cc2be6",
   "metadata": {},
   "outputs": [],
   "source": [
    "tv_shows_2019 = df[df['Start Year'] == 2019]\n",
    "tv_shows_2020 = df[df['Start Year'] == 2020]\n",
    "# Combine the two DataFrames into one\n",
    "tv_shows_2019_2020 = pd.concat([tv_shows_2019, tv_shows_2020])\n",
    "\n",
    "# Conduct a t-test to determine if there is a statistically significant difference in mean ratings between the two groups\n",
    "t, p = stats.ttest_ind(tv_shows_2019['Rating'], tv_shows_2020['Rating'])\n",
    "\n",
    "# Print the t-statistic and p-value\n",
    "print(f\"t-statistic: {t}, p-value: {p}\")\n",
    "\n",
    "# Visualize the distribution of ratings for each group using a distplot from seaborn\n",
    "sns.displot(data=tv_shows_2019_2020, x='Rating', hue='Start Year', kind='kde', common_norm=False,palette=\"Set2\")\n",
    "plt.show()\n"
   ]
  },
  {
   "cell_type": "markdown",
   "id": "8331afe3",
   "metadata": {},
   "source": [
    "Which genres are most popular and in high demand among viewers"
   ]
  },
  {
   "cell_type": "code",
   "execution_count": null,
   "id": "6c7400d5",
   "metadata": {},
   "outputs": [],
   "source": [
    "\n",
    "genre_counts = df[\"Primary Genre\"].value_counts()\n",
    "\n",
    "# Plot the genre distribution\n",
    "fig, ax = plt.subplots(figsize=(25, 10))\n",
    "plt.xticks(rotation='vertical', fontsize=18)\n",
    "plt.bar(genre_counts.index, genre_counts.values)\n",
    "plt.xlabel(\"Genre\")\n",
    "plt.ylabel(\"Number of TV Shows\")\n",
    "plt.title(\"Genre Distribution of Top 1000 TV Shows\")\n",
    "plt.xticks(rotation=90)\n",
    "plt.show()\n"
   ]
  },
  {
   "cell_type": "markdown",
   "id": "61652107",
   "metadata": {},
   "source": [
    "Popularity of TV shows over time by plotting the number of votes received each year"
   ]
  },
  {
   "cell_type": "code",
   "execution_count": null,
   "id": "1c54b97b",
   "metadata": {},
   "outputs": [],
   "source": [
    "tv_shows_filtered = df[df['Start Year'] > 1990]\n",
    "\n",
    "# Group the TV shows by start year and count the number of votes\n",
    "votes_by_year = tv_shows_filtered.groupby(\"Start Year\")[\"Votes\"].sum()\n",
    "\n",
    "# Plot the number of votes over time\n",
    "fig, ax = plt.subplots(figsize=(25, 10))\n",
    "plt.xticks(rotation='vertical', fontsize=18)\n",
    "plt.plot(votes_by_year.index, votes_by_year.values)\n",
    "plt.xlabel(\"Year\")\n",
    "plt.ylabel(\"Number of Votes\")\n",
    "plt.title(\"Popularity of TV Shows Over Time\")\n",
    "plt.show()\n"
   ]
  },
  {
   "cell_type": "markdown",
   "id": "121c22be",
   "metadata": {},
   "source": [
    "Relationship between the duration of a TV show and its rating. This could help determine whether longer shows are generally rated higher or not."
   ]
  },
  {
   "cell_type": "code",
   "execution_count": null,
   "id": "c7ed6c38",
   "metadata": {},
   "outputs": [],
   "source": [
    "\n",
    "import seaborn as sns\n",
    "\n",
    "fig, ax = plt.subplots(figsize=(25, 10))\n",
    "\n",
    "sns.regplot(x=\"Duration\", y=\"Rating\", data=df,ax=ax)\n",
    "plt.xlabel(\"Duration (in minutes)\")\n",
    "plt.ylabel(\"Rating\")\n",
    "plt.title(\"Relationship Between Duration and Rating of TV Shows\")\n",
    "plt.show()\n"
   ]
  },
  {
   "cell_type": "markdown",
   "id": "e8616182",
   "metadata": {},
   "source": [
    "Start and end years of TV shows. To understand trends in the television industry and when certain genres were popular."
   ]
  },
  {
   "cell_type": "code",
   "execution_count": null,
   "id": "80e7a3b8",
   "metadata": {},
   "outputs": [],
   "source": [
    "import seaborn as sns\n",
    "\n",
    "# Filter the dataframe to include only rows with start and end years after 2000\n",
    "df_filtered = df[(df[\"Start Year\"] > 2000) & (df[\"End Year\"] > 2000)]\n",
    "\n",
    "# Reshape the dataframe for Seaborn's catplot\n",
    "df_melted = pd.melt(df_filtered, value_vars=[\"Start Year\", \"End Year\"])\n",
    "\n",
    "# Create the catplot\n",
    "sns.catplot(data=df_melted, kind=\"count\", x=\"value\", hue=\"variable\",\n",
    "            palette={\"Start Year\": \"tab:blue\", \"End Year\": \"tab:orange\"},\n",
    "            height=6, aspect=2)\n",
    "\n",
    "# Set the axis labels and title\n",
    "plt.xlabel(\"Year\")\n",
    "plt.ylabel(\"Number of TV Shows\")\n",
    "plt.title(\"Distribution of Start and End Years of TV Shows (After 2000)\")\n",
    "\n",
    "plt.show()\n",
    "\n"
   ]
  },
  {
   "cell_type": "markdown",
   "id": "e505ac34",
   "metadata": {},
   "source": [
    "Relationship between the rating of a TV show and the number of votes it received. If there is a correlation between the two and if highly-rated shows tend to receive more votes."
   ]
  },
  {
   "cell_type": "code",
   "execution_count": null,
   "id": "3047a0f1",
   "metadata": {},
   "outputs": [],
   "source": [
    "import pandas as pd\n",
    "import matplotlib.pyplot as plt\n",
    "\n",
    "\n",
    "# Plot the relationship between rating and votes\n",
    "fig, ax = plt.subplots(figsize=(25, 10))\n",
    "plt.xticks(rotation='vertical', fontsize=18)\n",
    "# plt.scatter(df[\"Rating\"], df[\"Votes\"])\n",
    "sns.regplot(x=\"Rating\", y=\"Votes\", data=df,ax=ax)\n",
    "plt.xlabel(\"Rating\")\n",
    "plt.ylabel(\"Number of Votes\")\n",
    "plt.title(\"Relationship Between Rating and Votes of TV Shows\")\n",
    "plt.show()\n"
   ]
  },
  {
   "cell_type": "markdown",
   "id": "27c8957c",
   "metadata": {},
   "source": [
    "To understand how many shows have managed to stay on air for a long time and if this trend has changed over time. "
   ]
  },
  {
   "cell_type": "code",
   "execution_count": null,
   "id": "421bd1c9",
   "metadata": {},
   "outputs": [],
   "source": [
    "import pandas as pd\n",
    "import matplotlib.pyplot as plt\n",
    "\n",
    "# Remove shows which don't have an end year\n",
    "df.dropna(subset=[\"End Year\"], inplace=True)\n",
    "\n",
    "# Define a threshold for the number of years a show needs to air to be considered \"long-running\"\n",
    "threshold = 10\n",
    "\n",
    "# Calculate the number of long-running shows for each year\n",
    "long_running_shows = []\n",
    "years = sorted(set(df[\"Start Year\"].tolist() + df[\"End Year\"].tolist()))\n",
    "years = [year for year in years if year >= 2000]\n",
    "for year in years:\n",
    "    long_running_count = sum([1 for index, row in df.iterrows() if (row[\"Start Year\"] <= year) & (row[\"End Year\"] >= year) & (row[\"End Year\"] - row[\"Start Year\"] + 1 >= threshold)])\n",
    "    long_running_shows.append(long_running_count)\n",
    "\n",
    "# Plot the number of long-running shows over time\n",
    "plt.plot(years, long_running_shows)\n",
    "plt.xlabel(\"Year\")\n",
    "plt.ylabel(\"Number of Long-Running Shows\")\n",
    "plt.title(\"Number of Long-Running Shows Over Time\")\n",
    "plt.show()\n",
    "\n"
   ]
  },
  {
   "cell_type": "markdown",
   "id": "28ed12c3",
   "metadata": {},
   "source": [
    "Number of high-rated TV shows over time to understand if the quality of television shows has improved over time.\n"
   ]
  },
  {
   "cell_type": "code",
   "execution_count": null,
   "id": "2ca11688",
   "metadata": {},
   "outputs": [],
   "source": [
    "import pandas as pd\n",
    "import matplotlib.pyplot as plt\n",
    "\n",
    "fig, ax = plt.subplots(figsize=(25, 10))\n",
    "plt.xticks(rotation='vertical', fontsize=18)\n",
    "\n",
    "# Convert the Rating column to a floating-point data type\n",
    "df[\"Rating\"] = df[\"Rating\"].astype(float)\n",
    "\n",
    "# Define a threshold for the rating of a show to be considered \"high-rated\"\n",
    "threshold = 8.0\n",
    "\n",
    "# Calculate the number of high-rated shows for each year\n",
    "high_rated_shows = []\n",
    "years = sorted(set(df[\"Start Year\"].tolist()))\n",
    "for year in years:\n",
    "    high_rated_count = sum([1 for index, row in df.iterrows() if (row[\"Start Year\"] == year) & (row[\"Rating\"] >= threshold)])\n",
    "    high_rated_shows.append(high_rated_count)\n",
    "\n",
    "# Plot the number of high-rated shows over time\n",
    "plt.plot(years, high_rated_shows)\n",
    "plt.xlabel(\"Year\")\n",
    "plt.ylabel(\"Number of High-Rated Shows\",fontsize=18)\n",
    "plt.title(\"Number of High-Rated Shows Over Time\",fontsize=18)\n",
    "plt.show()\n"
   ]
  },
  {
   "cell_type": "markdown",
   "id": "acc5fcc5",
   "metadata": {},
   "source": [
    "Popularity of different genres over time"
   ]
  },
  {
   "cell_type": "code",
   "execution_count": null,
   "id": "0b097870",
   "metadata": {},
   "outputs": [],
   "source": [
    "import pandas as pd\n",
    "import matplotlib.pyplot as plt\n",
    "\n",
    "# # Split the genres into separate rows for each TV show\n",
    "# df = df.explode(\"Genre\")\n",
    "\n",
    "# Keep only the specified genres\n",
    "# df_Genre = df[df[\"Genre\"].isin([\"Action\", \"Comedy\", \"Drama\", \"Family\", \"Documentary\"])]\n",
    "# df_Genre = df[df[\"Genre\"]\n",
    "# Group the TV shows by genre and year\n",
    "genre_year_group = df.groupby([\"Primary Genre\", \"Start Year\"]).size().reset_index(name=\"Count\")\n",
    "\n",
    "# Create a pivot table to reshape the data\n",
    "pivot = genre_year_group.pivot(index=\"Start Year\", columns=\"Primary Genre\", values=\"Count\")\n",
    "\n",
    "# Plot the popularity of each genre over time\n",
    "pivot.plot.bar(stacked=True, figsize=(12, 8))\n",
    "plt.xlabel(\"Year\")\n",
    "plt.ylabel(\"Number of Shows\")\n",
    "plt.title(\"Popularity of Different Genres Over Time\")\n",
    "plt.legend(loc='center left', bbox_to_anchor=(1.0, 0.5))\n",
    "plt.show()\n",
    "\n",
    "\n",
    "\n"
   ]
  },
  {
   "cell_type": "markdown",
   "id": "b0361451",
   "metadata": {},
   "source": [
    "The average rating of TV shows over time to understand the trend of popularity."
   ]
  },
  {
   "cell_type": "code",
   "execution_count": null,
   "id": "3e5d6133",
   "metadata": {},
   "outputs": [],
   "source": [
    "import pandas as pd\n",
    "import matplotlib.pyplot as plt\n",
    "\n",
    "\n",
    "# Group the data by start year and find the mean rating for each year\n",
    "grouped_data = df.groupby(\"Start Year\").mean()[\"Rating\"]\n",
    "\n",
    "# Plot the line chart\n",
    "plt.plot(grouped_data.index, grouped_data.values)\n",
    "\n",
    "# Add labels and title to the chart\n",
    "# fig, ax = plt.subplots(figsize=(25, 10))\n",
    "# plt.xticks(rotation='vertical', fontsize=18)\n",
    "plt.xlabel(\"Start Year\")\n",
    "plt.ylabel(\"Average Rating\")\n",
    "plt.title(\"Trend analysis of TV show popularity over time\")\n",
    "\n",
    "# Show the chart\n",
    "plt.show()\n"
   ]
  },
  {
   "cell_type": "markdown",
   "id": "07e2684c",
   "metadata": {},
   "source": [
    "Compare the distribution of different genres among the top 1000 TV shows."
   ]
  },
  {
   "cell_type": "code",
   "execution_count": null,
   "id": "791b3da4",
   "metadata": {},
   "outputs": [],
   "source": [
    "import pandas as pd\n",
    "import matplotlib.pyplot as plt\n",
    "\n",
    "\n",
    "# Group the data by genre and find the count of each genre\n",
    "grouped_data = df.groupby(\"Primary Genre\").count()[\"Title\"]\n",
    "\n",
    "# Plot the bar chart\n",
    "plt.bar(grouped_data.index, grouped_data.values)\n",
    "\n",
    "# Add labels and title to the chart\n",
    "plt.xlabel(\"Genre\")\n",
    "plt.ylabel(\"Number of TV Shows\")\n",
    "plt.title(\"Genre distribution of top 1000 TV shows\")\n",
    "\n",
    "# Show the chart\n",
    "plt.show()\n"
   ]
  },
  {
   "cell_type": "markdown",
   "id": "87d39846",
   "metadata": {},
   "source": [
    "Which shows has more popularity based on votes"
   ]
  },
  {
   "cell_type": "code",
   "execution_count": null,
   "id": "69469ea0",
   "metadata": {},
   "outputs": [],
   "source": [
    "import matplotlib.pyplot as plt\n",
    "import pandas as pd\n",
    "\n",
    "\n",
    "# Sort the dataframe by the number of votes in descending order\n",
    "df = df.sort_values(by='Votes', ascending=False)\n",
    "\n",
    "# Get the top 10 rows of the sorted dataframe\n",
    "df = df.head(10)\n",
    "\n",
    "# Plot the data as a bar chart\n",
    "plt.bar(df['Title'], df['Votes'])\n",
    "\n",
    "# Add labels to the x and y axis\n",
    "plt.xlabel('Title')\n",
    "plt.ylabel('Votes')\n",
    "\n",
    "# Show the plot\n",
    "plt.show()\n",
    "\n"
   ]
  },
  {
   "cell_type": "markdown",
   "id": "0326eeba",
   "metadata": {},
   "source": [
    "To visualize the average ratings of TV shows over time and how it has changed. And see if there's a correlation between start year and ratings."
   ]
  },
  {
   "cell_type": "code",
   "execution_count": null,
   "id": "dc8ddc33",
   "metadata": {},
   "outputs": [],
   "source": [
    "import pandas as pd\n",
    "import matplotlib.pyplot as plt\n",
    "\n",
    "\n",
    "# Group the data by start year and calculate the average rating\n",
    "grouped = df.groupby(\"Start Year\").mean()\n",
    "\n",
    "# Plot the average rating by start year\n",
    "plt.plot(grouped.index, grouped[\"Rating\"])\n",
    "plt.xlabel(\"Start Year\")\n",
    "plt.ylabel(\"Average Rating\")\n",
    "plt.title(\"Average Rating of TV Shows by Start Year\")\n",
    "\n",
    "# Show the plot\n",
    "plt.show()\n"
   ]
  },
  {
   "cell_type": "markdown",
   "id": "669f025a",
   "metadata": {},
   "source": [
    "by decade #Not useful"
   ]
  },
  {
   "cell_type": "code",
   "execution_count": null,
   "id": "0ad57ae7",
   "metadata": {},
   "outputs": [],
   "source": [
    "import pandas as pd\n",
    "import matplotlib.pyplot as plt\n",
    "\n",
    "# Create a new column for the decade\n",
    "df['Decade'] = (df['Start Year']//10)*10\n",
    "\n",
    "# Group the data by decade and calculate the average rating\n",
    "grouped = df.groupby(\"Decade\").mean()\n",
    "\n",
    "# Plot the average rating by decade\n",
    "plt.plot(grouped.index, grouped[\"Rating\"])\n",
    "plt.xlabel(\"Decade\")\n",
    "plt.ylabel(\"Average Rating\")\n",
    "plt.title(\"Average Rating of TV Shows by Decade\")\n",
    "\n",
    "# Show the plot\n",
    "plt.show()\n"
   ]
  },
  {
   "cell_type": "markdown",
   "id": "50180a91",
   "metadata": {},
   "source": [
    "Genre popularity analysis - You could use bar plots to visualize the number of TV shows in each genre and how it has changed over time. You can also calculate the average ratings for each genre and compare it using a t-test. data: title,start year,end year, rating, votes. and genre."
   ]
  },
  {
   "cell_type": "code",
   "execution_count": null,
   "id": "251e0baf",
   "metadata": {},
   "outputs": [],
   "source": [
    "import pandas as pd\n",
    "import matplotlib.pyplot as plt\n",
    "import scipy.stats as stats\n",
    "\n",
    "# Calculate the number of TV shows in each genre\n",
    "genre_counts = df[\"Primary Genre\"].value_counts()\n",
    "\n",
    "# Plot the number of TV shows in each genre using a bar plot\n",
    "plt.bar(genre_counts.index, genre_counts.values)\n",
    "plt.xlabel(\"Genre\")\n",
    "plt.ylabel(\"Number of TV Shows\")\n",
    "plt.title(\"Number of TV Shows by Genre\")\n",
    "plt.xticks(rotation=90)\n",
    "plt.show()\n",
    "\n",
    "# Calculate the average rating for each genre\n",
    "genre_mean_ratings = df.groupby(\"Primary Genre\")[\"Rating\"].mean()\n",
    "\n",
    "# Plot the average ratings for each genre using a bar plot\n",
    "# plt.displot(genre_mean_ratings.index, genre_mean_ratings.values)\n",
    "# sns.displot(genre_mean_ratings.values, kde=True)\n",
    "# plt.xlabel(\"Genre\")\n",
    "# plt.ylabel(\"Average Rating\")\n",
    "# plt.title(\"Average Rating by Genre\")\n",
    "# plt.xticks(rotation=90)\n",
    "# plt.show()\n",
    "\n",
    "# Perform a t-test to compare the average ratings of two genres\n",
    "genre1 = df[df[\"Primary Genre\"] == \"Drama\"][\"Rating\"]\n",
    "genre2 = df[df[\"Primary Genre\"] == \"Comedy\"][\"Rating\"]\n",
    "\n",
    "t, p = stats.ttest_ind(genre1, genre2)\n",
    "\n",
    "print(\"T-statistic:\", t)\n",
    "print(\"P-value:\", p)\n"
   ]
  },
  {
   "cell_type": "markdown",
   "id": "5f107104",
   "metadata": {},
   "source": [
    "Which shows has more popularity based on Rating"
   ]
  },
  {
   "cell_type": "code",
   "execution_count": null,
   "id": "61a008de",
   "metadata": {},
   "outputs": [],
   "source": [
    "\n",
    "\n",
    "tv_shows_filtered = df[df['Start Year'] > 2000]\n",
    "\n",
    "# Create the scatter plot\n",
    "sns.scatterplot(data=df, x='Start Year', y='Rating', hue='Primary Genre')\n",
    "\n",
    "# Add labels and titles\n",
    "plt.xlabel('Start Year')\n",
    "plt.ylabel('Rating')\n",
    "plt.title('Rating vs Start Year, Colored by Genre')\n",
    "\n",
    "# Show the plot\n",
    "plt.show()"
   ]
  },
  {
   "cell_type": "markdown",
   "id": "ec02d7af",
   "metadata": {},
   "source": [
    "#Top TV Show which are popular in particular genre"
   ]
  },
  {
   "cell_type": "code",
   "execution_count": null,
   "id": "951b7cc7",
   "metadata": {},
   "outputs": [],
   "source": [
    "\n"
   ]
  },
  {
   "cell_type": "code",
   "execution_count": null,
   "id": "df384e24",
   "metadata": {},
   "outputs": [],
   "source": [
    "df['Certificate']=df['Certificate'].fillna('Not Rated')\n",
    "\n",
    "certificates=df[df['Certificate']!='Not Rated']['Certificate']\n",
    "fig,axs=plt.subplots(figsize=(20,5))\n",
    "sns.countplot(certificates)\n",
    "plt.title(\"Count of Certificates provided\", weight = \"bold\")\n",
    "plt.show()"
   ]
  },
  {
   "cell_type": "code",
   "execution_count": null,
   "id": "157f9e70",
   "metadata": {},
   "outputs": [],
   "source": []
  },
  {
   "cell_type": "code",
   "execution_count": null,
   "id": "aec8a1bd",
   "metadata": {},
   "outputs": [],
   "source": [
    "from collections import Counter\n",
    "genre=[]\n",
    "for x in df['Genre']:\n",
    "    for y in x.split(','):\n",
    "        genre.append(y.strip().lower())\n",
    "        \n",
    "\n",
    "count=Counter(genre)\n",
    "count=count.most_common()[:10]\n",
    "x,y=map(list,zip(*count))\n",
    "\n",
    "fig,axs=plt.subplots(figsize=(20,5))\n",
    "sns.barplot(y,x)\n",
    "plt.ylabel(\"Genres\")\n",
    "plt.title(\"Top Ten Genres\")\n",
    "plt.show()"
   ]
  },
  {
   "cell_type": "code",
   "execution_count": null,
   "id": "bb8f6832",
   "metadata": {},
   "outputs": [],
   "source": []
  },
  {
   "cell_type": "code",
   "execution_count": null,
   "id": "32ef48f9",
   "metadata": {},
   "outputs": [],
   "source": [
    "fig,axs=plt.subplots(figsize=(20,5))\n",
    "sns.scatterplot(x=df['Start Year'].value_counts()[:10].index,y=df['Start Year'].value_counts()[:10])\n",
    "# sns.regplot(x=df['Start Year'].value_counts()[:10].index,y=df['Start Year'].value_counts()[:10])\n",
    "\n",
    "# sns.barplot(data=df, x='Start Year', y='Rating', hue='Primary Genre')\n",
    "plt.title(\"Maximum TV shows released in-\")\n",
    "plt.xlabel(\"year\")\n",
    "plt.ylabel(\"Number of TV shows\")\n",
    "plt.show()"
   ]
  },
  {
   "cell_type": "markdown",
   "id": "1e6bf94a",
   "metadata": {},
   "source": []
  },
  {
   "cell_type": "code",
   "execution_count": null,
   "id": "d08c6882",
   "metadata": {},
   "outputs": [],
   "source": []
  },
  {
   "cell_type": "code",
   "execution_count": null,
   "id": "75b4afef",
   "metadata": {},
   "outputs": [],
   "source": []
  },
  {
   "cell_type": "code",
   "execution_count": null,
   "id": "54a31d26",
   "metadata": {},
   "outputs": [],
   "source": [
    "# import seaborn as sns\n",
    "\n",
    "\n",
    "# # Calculate standard deviation of ratings for each genre\n",
    "# std_by_genre = df.groupby('Genre')['Rating'].std().reset_index()\n",
    "\n",
    "# # Create a scatter plot\n",
    "# sns.scatterplot(x='Genre', y='Rating', data=std_by_genre, s=100)\n",
    "\n",
    "# # Set labels and title\n",
    "# sns.set(rc={'figure.figsize':(15,8)})\n",
    "# sns.set_style('whitegrid')\n",
    "# # sns.set(font_scale=1.5)\n",
    "# sns.set_palette('bright')\n",
    "# plt.title('Standard Deviation of Ratings by Genre')\n",
    "# plt.xlabel('Genre')\n",
    "# plt.ylabel('Standard Deviation')\n",
    "# plt.xticks(rotation=90)\n",
    "\n",
    "\n",
    "# # Display the plot\n",
    "# plt.show()\n"
   ]
  },
  {
   "cell_type": "code",
   "execution_count": null,
   "id": "bbeca618",
   "metadata": {},
   "outputs": [],
   "source": []
  },
  {
   "cell_type": "code",
   "execution_count": null,
   "id": "ee08b895",
   "metadata": {},
   "outputs": [],
   "source": [
    "\n",
    "plt.scatter(df['Start Year'], df['Rating'])\n",
    "\n",
    "# Add labels and a title to the plot\n",
    "plt.xlabel('Start Year')\n",
    "plt.ylabel('Rating')\n",
    "plt.title('Start Year vs. Rating')\n",
    "\n",
    "# Display the plot\n",
    "plt.show()"
   ]
  },
  {
   "cell_type": "markdown",
   "id": "12f14cae",
   "metadata": {},
   "source": []
  },
  {
   "cell_type": "code",
   "execution_count": null,
   "id": "0d28649b",
   "metadata": {},
   "outputs": [],
   "source": [
    "\n",
    "import pandas as pd\n",
    "import seaborn as sns\n",
    "\n",
    "\n",
    "# Sort the dataset by rating in descending order\n",
    "tv_shows_sorted = df.sort_values(by='Rating', ascending=False)\n",
    "\n",
    "# Select the top 10 highest-rated TV shows\n",
    "top_10 = tv_shows_sorted.head(100)\n",
    "\n",
    "# Create a scatter plot of Rating vs. Votes\n",
    "sns.regplot(data=top_10, x='Rating', y='Votes')\n",
    "plt.title('Top 10 Highest-Rated TV Shows')\n",
    "plt.show()\n",
    "\n"
   ]
  },
  {
   "cell_type": "code",
   "execution_count": null,
   "id": "fa465140",
   "metadata": {},
   "outputs": [],
   "source": []
  },
  {
   "cell_type": "code",
   "execution_count": null,
   "id": "8bcfcf49",
   "metadata": {},
   "outputs": [],
   "source": []
  }
 ],
 "metadata": {
  "kernelspec": {
   "display_name": "Python 3 (ipykernel)",
   "language": "python",
   "name": "python3"
  },
  "language_info": {
   "codemirror_mode": {
    "name": "ipython",
    "version": 3
   },
   "file_extension": ".py",
   "mimetype": "text/x-python",
   "name": "python",
   "nbconvert_exporter": "python",
   "pygments_lexer": "ipython3",
   "version": "3.9.12"
  }
 },
 "nbformat": 4,
 "nbformat_minor": 5
}
